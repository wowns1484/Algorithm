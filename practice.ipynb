{
 "cells": [
  {
   "cell_type": "code",
   "execution_count": 3,
   "metadata": {},
   "outputs": [],
   "source": [
    "from collections import deque\n",
    "\n",
    "def solution_bfs(numbers, target):\n",
    "    answer = 0\n",
    "    queue = deque([(0, 0)]) # sum, level\n",
    "    while queue:\n",
    "        s, l = queue.popleft()\n",
    "        if l > len(numbers):\n",
    "            break\n",
    "        elif l == len(numbers) and s == target:\n",
    "            answer += 1\n",
    "        queue.append((s+numbers[l-1], l+1))\n",
    "        queue.append((s-numbers[l-1], l+1))\n",
    "\n",
    "    return answer"
   ]
  },
  {
   "cell_type": "code",
   "execution_count": 4,
   "metadata": {},
   "outputs": [],
   "source": [
    "def solution_dfs(numbers, target):\n",
    "    result = 0\n",
    "    def dfs(num, level):\n",
    "        nonlocal result\n",
    "\n",
    "        if level == len(numbers):\n",
    "            if num == target:\n",
    "                result += 1\n",
    "            return\n",
    "\n",
    "        signs = [-num, num]\n",
    "        if level == 1:\n",
    "            for i in range(2):\n",
    "                dfs(signs[i] + numbers[level], level + 1)\n",
    "                dfs(signs[i] - numbers[level], level + 1)\n",
    "        else:\n",
    "            dfs(num + numbers[level], level + 1)\n",
    "            dfs(num - numbers[level], level + 1)\n",
    "\n",
    "    dfs(numbers[0], 1)\n",
    "    return result\n"
   ]
  },
  {
   "cell_type": "code",
   "execution_count": null,
   "metadata": {},
   "outputs": [],
   "source": []
  }
 ],
 "metadata": {
  "kernelspec": {
   "display_name": "Python 3.7.11 ('torch')",
   "language": "python",
   "name": "python3"
  },
  "language_info": {
   "codemirror_mode": {
    "name": "ipython",
    "version": 3
   },
   "file_extension": ".py",
   "mimetype": "text/x-python",
   "name": "python",
   "nbconvert_exporter": "python",
   "pygments_lexer": "ipython3",
   "version": "3.7.11"
  },
  "orig_nbformat": 4,
  "vscode": {
   "interpreter": {
    "hash": "af640ef5e237560663450db179292dda4e36d8af96316b6d53ad8d34500a15be"
   }
  }
 },
 "nbformat": 4,
 "nbformat_minor": 2
}
